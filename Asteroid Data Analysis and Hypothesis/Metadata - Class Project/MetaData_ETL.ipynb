{
 "cells": [
  {
   "cell_type": "code",
   "execution_count": 4,
   "id": "c0ba5da1",
   "metadata": {},
   "outputs": [
    {
     "name": "stdout",
     "output_type": "stream",
     "text": [
      "Collecting neo4j\n",
      "  Downloading neo4j-4.4.3.tar.gz (90 kB)\n",
      "     ---------------------------------------- 90.4/90.4 KB 5.3 MB/s eta 0:00:00\n",
      "  Preparing metadata (setup.py): started\n",
      "  Preparing metadata (setup.py): finished with status 'done'\n",
      "Requirement already satisfied: pytz in c:\\users\\harsh\\appdata\\local\\programs\\python\\python310\\lib\\site-packages (from neo4j) (2022.1)\n",
      "Using legacy 'setup.py install' for neo4j, since package 'wheel' is not installed.\n",
      "Installing collected packages: neo4j\n",
      "  Running setup.py install for neo4j: started\n",
      "  Running setup.py install for neo4j: finished with status 'done'\n",
      "Successfully installed neo4j-4.4.3\n",
      "Note: you may need to restart the kernel to use updated packages.\n"
     ]
    }
   ],
   "source": [
    "pip install neo4j"
   ]
  },
  {
   "cell_type": "code",
   "execution_count": 5,
   "id": "f00880e2",
   "metadata": {},
   "outputs": [
    {
     "name": "stdout",
     "output_type": "stream",
     "text": [
      "Requirement already satisfied: pyodbc in c:\\users\\harsh\\appdata\\local\\programs\\python\\python310\\lib\\site-packages (4.0.32)\n",
      "Note: you may need to restart the kernel to use updated packages.\n"
     ]
    }
   ],
   "source": [
    "pip install pyodbc"
   ]
  },
  {
   "cell_type": "code",
   "execution_count": 6,
   "id": "3ce2d21e",
   "metadata": {},
   "outputs": [
    {
     "name": "stdout",
     "output_type": "stream",
     "text": [
      "Requirement already satisfied: pandas in c:\\users\\harsh\\appdata\\local\\programs\\python\\python310\\lib\\site-packages (1.4.2)\n",
      "Requirement already satisfied: numpy>=1.21.0 in c:\\users\\harsh\\appdata\\local\\programs\\python\\python310\\lib\\site-packages (from pandas) (1.22.3)\n",
      "Requirement already satisfied: pytz>=2020.1 in c:\\users\\harsh\\appdata\\local\\programs\\python\\python310\\lib\\site-packages (from pandas) (2022.1)\n",
      "Requirement already satisfied: python-dateutil>=2.8.1 in c:\\users\\harsh\\appdata\\local\\programs\\python\\python310\\lib\\site-packages (from pandas) (2.8.2)\n",
      "Requirement already satisfied: six>=1.5 in c:\\users\\harsh\\appdata\\local\\programs\\python\\python310\\lib\\site-packages (from python-dateutil>=2.8.1->pandas) (1.16.0)\n",
      "Note: you may need to restart the kernel to use updated packages.\n"
     ]
    }
   ],
   "source": [
    "pip install pandas"
   ]
  },
  {
   "cell_type": "code",
   "execution_count": 15,
   "id": "c117ec1e",
   "metadata": {},
   "outputs": [
    {
     "name": "stdout",
     "output_type": "stream",
     "text": [
      "Collecting openpyxl\n",
      "  Using cached openpyxl-3.0.9-py2.py3-none-any.whl (242 kB)\n",
      "Collecting et-xmlfile\n",
      "  Using cached et_xmlfile-1.1.0-py3-none-any.whl (4.7 kB)\n",
      "Installing collected packages: et-xmlfile, openpyxl\n",
      "Successfully installed et-xmlfile-1.1.0 openpyxl-3.0.9\n",
      "Note: you may need to restart the kernel to use updated packages.\n"
     ]
    }
   ],
   "source": [
    "pip install openpyx"
   ]
  },
  {
   "cell_type": "code",
   "execution_count": 8,
   "id": "8cb213ed",
   "metadata": {},
   "outputs": [],
   "source": [
    "from neo4j import __version__ as neo4j_version\n",
    "import pyodbc\n",
    "import pandas as pd\n",
    "from neo4j import GraphDatabase\n",
    "from pandas import DataFrame\n",
    "import numpy as np\n",
    "import pandas as pd"
   ]
  },
  {
   "cell_type": "code",
   "execution_count": 9,
   "id": "900dd576",
   "metadata": {},
   "outputs": [],
   "source": [
    "class Neo4jConnection:\n",
    "    \n",
    "    def __init__(self, uri, user, pwd):\n",
    "        self.__uri = uri\n",
    "        self.__user = user\n",
    "        self.__pwd = pwd\n",
    "        self.__driver = None\n",
    "        try:\n",
    "            self.__driver = GraphDatabase.driver(self.__uri, auth=(self.__user, self.__pwd))\n",
    "        except Exception as e:\n",
    "            print(\"Failed to create the driver:\", e)\n",
    "        \n",
    "    def close(self):\n",
    "        if self.__driver is not None:\n",
    "            self.__driver.close()\n",
    "        \n",
    "    def query(self, query, db=None):\n",
    "        assert self.__driver is not None, \"Driver not initialized!\"\n",
    "        session = None\n",
    "        response = None\n",
    "        try: \n",
    "            session = self.__driver.session(database=db) if db is not None else self.__driver.session() \n",
    "            response = list(session.run(query))\n",
    "        except Exception as e:\n",
    "            print(\"Query failed:\", e)\n",
    "        finally: \n",
    "            if session is not None:\n",
    "                session.close()\n",
    "        return response"
   ]
  },
  {
   "cell_type": "code",
   "execution_count": 10,
   "id": "9869537e",
   "metadata": {},
   "outputs": [],
   "source": [
    "databasePath = r\"C:\\Users\\Harsh\\Downloads\\Metadata - Class Project\\DataBases.xlsx\"\n",
    "attributeDatatypePath = r\"C:\\Users\\Harsh\\Downloads\\Metadata - Class Project\\AttributeDataTypes.xlsx\"\n",
    "\n",
    "def loadMetaData(userName, password, groupNumber, databaseName, businessTermPath):\n",
    "     Sequence = groupNumber * 1000\n",
    "     conn = Neo4jConnection(uri=\"bolt://localhost:7687\", user = userName, pwd = password)\n",
    "     print(\"Connection with Neo4j Established\")\n",
    "     query_string = \"CALL apoc.meta.data();\"\n",
    "     dtf_data = DataFrame([dict(_) for _ in conn.query(query_string, db='neo4j')])\n",
    "\n",
    "     AttributeDataType_table = pd.read_excel(attributeDatatypePath)\n",
    "     AttributeDataType_table.insert(loc=0, column='AttributeDatTypeId', value=np.arange(101, 101+len(AttributeDataType_table)))\n",
    "     AttributeDataType_table['PropertyTypes'] = AttributeDataType_table['PropertyTypes'].str.upper()\n",
    "     # Attribute Table\n",
    "     attribute_table = dtf_data.iloc[:, [1,6,0,-1]].copy()\n",
    "     attribute_table.insert(loc=2,column='DatabaseName',value = databaseName)\n",
    "     attribute_table = attribute_table[(attribute_table.elementType == 'node') & (attribute_table.type != 'RELATIONSHIP')]\n",
    "     attribute_ta = attribute_table\n",
    "     attribute_ta.insert(loc=0, column='AttributeId', value=np.arange(Sequence, Sequence+len(attribute_table)))\n",
    "     attribute_ta = attribute_ta.drop(['elementType'], axis=1)\n",
    "\n",
    "     df3=pd.merge(attribute_ta,AttributeDataType_table, left_on='type', right_on='PropertyTypes')\n",
    "     df3= df3.iloc[:,:6]\n",
    "\n",
    "     pd.to_datetime(\"today\").strftime(\"%m/%d/%Y\")\n",
    "     label_string = \"CALL db.labels();\"\n",
    "     dtf_data_entity = DataFrame([dict(_) for _ in conn.query(label_string, db='neo4j')])\n",
    "     # Entity Table\n",
    "     Entity=dtf_data_entity.iloc[:, [0]].copy()\n",
    "     Entity.insert(loc=0, column='EntityId', value=np.arange(Sequence, Sequence+len(Entity)))\n",
    "     Entity.insert(loc=2, column='EntityCreationDate', value=pd.to_datetime(\"today\").strftime(\"%m/%d/%Y\"))\n",
    "     Entity.insert(loc=3, column='Entity_desc', value=Entity.label)\n",
    "     Entity.insert(loc=4, column='Entity_createdby', value='Group ' + str(groupNumber))\n",
    "     Entity.insert(loc=5, column='DatabseName', value = databaseName)\n",
    "     Entity.rename({'label': 'EntityName'}, axis=1, inplace=True)\n",
    "\n",
    "     # Relation Table\n",
    "     relation_table = dtf_data.iloc[:, [1, 0,6, 13, -1]].copy()\n",
    "     # Filter relationships\n",
    "     relation_table = relation_table[(relation_table.elementType == 'node') & (relation_table.type == 'RELATIONSHIP')]\n",
    "     Relation=relation_table.iloc[:, [1, 0, 3, -1]].copy()\n",
    "     Relation = Relation[(Relation.elementType == 'node')]\n",
    "     Relation.insert(loc=0, column='RelationID', value=np.arange(Sequence, Sequence + len(Relation)))\n",
    "     Relation['other'] = Relation['other'].str.get(0)\n",
    "     Relation = Relation.drop(['elementType'], axis=1)\n",
    "     Relation.rename({'label': 'EntityName1','property' : 'Relationship', 'other':'EntityName2'}, axis=1, inplace=True)\n",
    "\n",
    "     Database = pd.read_excel(databasePath)\n",
    "     BussinessTermTable = pd.read_excel(businessTermPath)\n",
    "     BussinessTermTable.rename({'Column Names': 'BusinessTerms','Column Description' : 'BusinessTermsDescription', 'DataType':'DataType'}, axis=1, inplace=True)\n",
    "     BussinessTermTable.insert(loc=0, column='BusinessID', value=np.arange(Sequence, Sequence + BussinessTermTable.shape[0]))\n",
    "     cnxn = pyodbc.connect('Driver={SQL Server Native Client 11.0};'\n",
    "                           'Server=localhost;'\n",
    "                           'Database=Class_MetaData;'\n",
    "                           'Trusted_Connection=yes;')\n",
    "\n",
    "     cursor = cnxn.cursor()\n",
    "\n",
    "     cursor.execute(\"Truncate Table [dbo].[Database];\")\n",
    "     cursor.execute(\"Truncate Table [dbo].[AttributeDataType];\")\n",
    "\n",
    "     # Insert Dataframe into SQL Server:\n",
    "     #Common for all Databases\n",
    "     for index, row in Database.iterrows():\n",
    "          cursor.execute(\"INSERT INTO dbo.[Database] (DatabaseId, DatabaseName, DbOwner, DbSize, DbCreationDate, NoofUsers) values(?,?,?,?,?,?);\", row.DatabaseId, row.DatabaseName, row.DbOwner, row.DbSize, row.DBCreationDate, row.NumofUsers)\n",
    "     print('Databases Table Inserted')\n",
    "     for index, row in AttributeDataType_table.iterrows():\n",
    "          cursor.execute(\"INSERT INTO dbo.AttributeDataType (AttributeDataTypeId, AttributeDataTypeValue, AttributeDataTypeRange) values(?,?,?);\", row.AttributeDatTypeId, row.PropertyTypes, row.Range)\n",
    "     print('Attribute Data Type Table Inserted')\n",
    "     #Different for all Databases\n",
    "     for index, row in df3.iterrows():\n",
    "          cursor.execute(\"INSERT INTO dbo.Attribute (AttributeId,AttributeName,AttributeType,databaseName,EntityName,AttributeDataType_AttributeDataTypeId) values(?,?,?,?,?,?)\", row.AttributeId, row.property, row.type, row.DatabaseName, row.label, row.AttributeDatTypeId)\n",
    "     print('Attribute Table Inserted')\n",
    "     for index, row in Entity.iterrows():\n",
    "          cursor.execute(\"INSERT INTO dbo.Entitiy (EntitiyId, EntitiyName, EntitiyCreationDate, EntitiyDescription, EntitiyCreatedBy, DatabaseName) values(?,?,?,?,?,?)\", row.EntityId, row.EntityName, row.EntityCreationDate, row.Entity_desc, row.Entity_createdby, row.DatabseName)\n",
    "     print('Entity Table Inserted')\n",
    "     for index, row in Relation.iterrows():\n",
    "          cursor.execute(\"INSERT INTO dbo.Relations (RelationID, EntityName1, Relation, EntityName2) values(?,?,?,?)\", row.RelationID, row.EntityName1, row.Relationship, row.EntityName2)\n",
    "     print('Relation Table Inserted')\n",
    "     for index, row in BussinessTermTable.iterrows():\n",
    "          cursor.execute(\"INSERT INTO dbo.BusinessTerm (BusinessID, BusinessTerms, BusinessTermsDescription, DataType) values(?,?,?,?)\", row.BusinessID, row.BusinessTerms, row.BusinessTermsDescription, row.DataType)\n",
    "     print('Business Term table Inserted')\n",
    "     print('Ingestion Done')\n",
    "     cnxn.commit()\n",
    "     cursor.close()"
   ]
  },
  {
   "cell_type": "code",
   "execution_count": 19,
   "id": "3b6e62d0",
   "metadata": {},
   "outputs": [
    {
     "name": "stdout",
     "output_type": "stream",
     "text": [
      "Connection with Neo4j Established\n",
      "Databases Table Inserted\n",
      "Attribute Data Type Table Inserted\n",
      "Attribute Table Inserted\n",
      "Entity Table Inserted\n",
      "Relation Table Inserted\n",
      "Business Term table Inserted\n",
      "Ingestion Done\n"
     ]
    }
   ],
   "source": [
    "businessTermPath = r\"C:\\Users\\Harsh\\Downloads\\Metadata - Class Project\\BusinessTermListG4.xlsx\"\n",
    "loadMetaData(userName = \"Group4_Project\", \n",
    "            password = \"asteroid\", \n",
    "            groupNumber = 4, \n",
    "            databaseName = \"Asteroid Data\", \n",
    "            businessTermPath = businessTermPath)"
   ]
  }
 ],
 "metadata": {
  "kernelspec": {
   "display_name": "Python 3",
   "language": "python",
   "name": "python3"
  },
  "language_info": {
   "codemirror_mode": {
    "name": "ipython",
    "version": 3
   },
   "file_extension": ".py",
   "mimetype": "text/x-python",
   "name": "python",
   "nbconvert_exporter": "python",
   "pygments_lexer": "ipython3",
   "version": "3.10.4"
  }
 },
 "nbformat": 4,
 "nbformat_minor": 5
}
